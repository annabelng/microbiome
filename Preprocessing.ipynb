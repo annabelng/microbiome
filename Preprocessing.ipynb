{
 "cells": [
  {
   "cell_type": "code",
   "execution_count": 1,
   "id": "901a3f2c",
   "metadata": {},
   "outputs": [
    {
     "name": "stdout",
     "output_type": "stream",
     "text": [
      "hello world\n"
     ]
    }
   ],
   "source": [
    "print(\"hello world\")"
   ]
  },
  {
   "cell_type": "code",
   "execution_count": 9,
   "id": "82bdbc22",
   "metadata": {},
   "outputs": [],
   "source": [
    "import sklearn\n",
    "import pandas as pd\n",
    "import numpy as np\n",
    "import matplotlib.pyplot as plt\n",
    "import seaborn as sns\n",
    "import os\n",
    "%matplotlib inline\n",
    "\n",
    "# some code to control figure aeshetics\n",
    "sns.set_style(\"ticks\")\n",
    "sns.set_context(\"notebook\", font_scale=1.5, rc={\"lines.linewidth\": 2.5})"
   ]
  },
  {
   "cell_type": "code",
   "execution_count": 10,
   "id": "08bc33d5",
   "metadata": {},
   "outputs": [
    {
     "name": "stdout",
     "output_type": "stream",
     "text": [
      "/Users/annabelng/Personal Items/Personal/Ai4ALL/microbiome\n",
      "/Users/annabelng/Personal Items/Personal/Ai4ALL/microbiome/data\n"
     ]
    }
   ],
   "source": [
    "basedir = os.getcwd()\n",
    "datadir = basedir + '/data'\n",
    "\n",
    "print(basedir)\n",
    "print(datadir)"
   ]
  },
  {
   "cell_type": "code",
   "execution_count": 11,
   "id": "a44ab0dd",
   "metadata": {},
   "outputs": [
    {
     "data": {
      "text/plain": [
       "['patients_assay.csv', '.DS_Store', 'OTUref.csv', 'data.csv']"
      ]
     },
     "execution_count": 11,
     "metadata": {},
     "output_type": "execute_result"
    }
   ],
   "source": [
    "os.listdir(datadir)"
   ]
  },
  {
   "cell_type": "code",
   "execution_count": null,
   "id": "792f946a",
   "metadata": {},
   "outputs": [],
   "source": [
    "data = pd.read_csv(datadir + '/data.csv')\n",
    "OTUref = pd.read_csv(datadir + '/DS_Store')\n",
    "patients_assay = pd.read_csv(datadir + '/patients_assay.csv')"
   ]
  },
  {
   "cell_type": "code",
   "execution_count": null,
   "id": "a0fb9240",
   "metadata": {},
   "outputs": [],
   "source": []
  }
 ],
 "metadata": {
  "kernelspec": {
   "display_name": "Python 3 (ipykernel)",
   "language": "python",
   "name": "python3"
  },
  "language_info": {
   "codemirror_mode": {
    "name": "ipython",
    "version": 3
   },
   "file_extension": ".py",
   "mimetype": "text/x-python",
   "name": "python",
   "nbconvert_exporter": "python",
   "pygments_lexer": "ipython3",
   "version": "3.8.0"
  }
 },
 "nbformat": 4,
 "nbformat_minor": 5
}
